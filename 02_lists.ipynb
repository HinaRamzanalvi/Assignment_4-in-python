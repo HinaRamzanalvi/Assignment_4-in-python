{
  "nbformat": 4,
  "nbformat_minor": 0,
  "metadata": {
    "colab": {
      "provenance": []
    },
    "kernelspec": {
      "name": "python3",
      "display_name": "Python 3"
    },
    "language_info": {
      "name": "python"
    }
  },
  "cells": [
    {
      "cell_type": "markdown",
      "source": [
        "# **01_add_many_number.md**"
      ],
      "metadata": {
        "id": "J-rQ8MM9GUeO"
      }
    },
    {
      "cell_type": "code",
      "source": [
        "def add_number(numbers) -> int:\n",
        "    num: int = 0\n",
        "    for i in numbers:\n",
        "        num += i\n",
        "    return num\n",
        "\n",
        "def main():\n",
        "    numbers: list[int] = [1, 2, 3, 4, 5]\n",
        "    total = add_number(numbers)\n",
        "    print(total)\n",
        "\n",
        "if __name__ == \"__main__\":\n",
        "    main()\n"
      ],
      "metadata": {
        "colab": {
          "base_uri": "https://localhost:8080/"
        },
        "id": "ZblN3GGHGaWv",
        "outputId": "f51fecf8-471f-44f5-bc3f-32b2faa94a6a"
      },
      "execution_count": 7,
      "outputs": [
        {
          "output_type": "stream",
          "name": "stdout",
          "text": [
            "15\n"
          ]
        }
      ]
    },
    {
      "cell_type": "markdown",
      "source": [
        "# **02_double_list.md**\n"
      ],
      "metadata": {
        "id": "N0tVn5ylITpx"
      }
    },
    {
      "cell_type": "code",
      "source": [
        "def main():\n",
        "    numbers: list[int] = [1, 2, 3, 4, 5]\n",
        "    for i in range(len(numbers)):\n",
        "      index = numbers[i]\n",
        "      numbers[i] = index * 2\n",
        "    print(numbers)\n",
        "\n",
        "if __name__ == \"__main__\":\n",
        "    main()"
      ],
      "metadata": {
        "colab": {
          "base_uri": "https://localhost:8080/"
        },
        "id": "WEZyrlR9IcrG",
        "outputId": "c95a4709-6d0f-4ac2-b532-9c9bfb471af5"
      },
      "execution_count": 8,
      "outputs": [
        {
          "output_type": "stream",
          "name": "stdout",
          "text": [
            "[2, 4, 6, 8, 10]\n"
          ]
        }
      ]
    },
    {
      "cell_type": "markdown",
      "source": [
        "# **04_flowing_with_data_structures.md**"
      ],
      "metadata": {
        "id": "Swu1Q2joJYyZ"
      }
    },
    {
      "cell_type": "code",
      "source": [
        "def add_three_copies(lst,data):\n",
        "  for i in range(3):\n",
        "    lst.append(data)\n",
        "\n",
        "def main():\n",
        "  message = input(\"Enter a message to copy.\")\n",
        "  lst =[]\n",
        "  print(\"Before list:\" ,lst)\n",
        "  add_three_copies(lst,message)\n",
        "  print(\"After list:\" ,lst)\n",
        "\n",
        "if __name__ == \"__main__\":\n",
        "  main()"
      ],
      "metadata": {
        "colab": {
          "base_uri": "https://localhost:8080/"
        },
        "id": "xbq2J3wHLoth",
        "outputId": "1d8d3e24-bcbf-4c56-fcd5-450aa348726c"
      },
      "execution_count": 9,
      "outputs": [
        {
          "output_type": "stream",
          "name": "stdout",
          "text": [
            "Enter a message to copy.Hello i m hina alvi\n",
            "Before list: []\n",
            "After list: ['Hello i m hina alvi', 'Hello i m hina alvi', 'Hello i m hina alvi']\n"
          ]
        }
      ]
    },
    {
      "cell_type": "markdown",
      "source": [
        "# **05_get_first_element.md**"
      ],
      "metadata": {
        "id": "iOs2eKlnN-tv"
      }
    },
    {
      "cell_type": "code",
      "source": [
        "def get_first_element(lst):\n",
        "  print(lst[0])\n",
        "\n",
        "def get_lst():\n",
        "  lst = []\n",
        "  elem:str = input(\"Enter an element to add to the list.\")\n",
        "  while elem != \"\":\n",
        "    lst.append(elem)\n",
        "    elem = input(\"Enter an element to add to the list.\")\n",
        "  return lst\n",
        "\n",
        "def main():\n",
        "  lst = get_lst()\n",
        "  get_first_element(lst)\n",
        "\n",
        "\n",
        "if __name__ == \"__main__\":\n",
        "  main()\n",
        "\n",
        ""
      ],
      "metadata": {
        "colab": {
          "base_uri": "https://localhost:8080/"
        },
        "id": "eTI9JIXtOALt",
        "outputId": "fe374338-f807-4179-fb66-463ae2e2e06a"
      },
      "execution_count": 10,
      "outputs": [
        {
          "output_type": "stream",
          "name": "stdout",
          "text": [
            "Enter an element to add to the list.h\n",
            "Enter an element to add to the list.t\n",
            "Enter an element to add to the list.i\n",
            "Enter an element to add to the list.k\n",
            "Enter an element to add to the list.h\n",
            "Enter an element to add to the list.h\n",
            "Enter an element to add to the list.a\n",
            "Enter an element to add to the list.\n",
            "h\n"
          ]
        }
      ]
    },
    {
      "cell_type": "markdown",
      "source": [
        "# **06_get_last_element.md**\n"
      ],
      "metadata": {
        "id": "oy87vQtjPVYt"
      }
    },
    {
      "cell_type": "code",
      "source": [
        "def get_first_element(lst):\n",
        "  print(lst[-1\n",
        "            ])\n",
        "\n",
        "def get_lst():\n",
        "  lst = []\n",
        "  elem:str = input(\"Enter an element to add to the list.\")\n",
        "  while elem != \"\":\n",
        "    lst.append(elem)\n",
        "    elem = input(\"Enter an element to add to the list.\")\n",
        "  return lst\n",
        "\n",
        "def main():\n",
        "  lst = get_lst()\n",
        "  get_first_element(lst)\n",
        "\n",
        "\n",
        "if __name__ == \"__main__\":\n",
        "  main()"
      ],
      "metadata": {
        "colab": {
          "base_uri": "https://localhost:8080/"
        },
        "id": "v8oERy_bPZ7g",
        "outputId": "9fc28887-03ce-432f-8068-55c8deb804ba"
      },
      "execution_count": 11,
      "outputs": [
        {
          "output_type": "stream",
          "name": "stdout",
          "text": [
            "Enter an element to add to the list.h\n",
            "Enter an element to add to the list.i\n",
            "Enter an element to add to the list.n\n",
            "Enter an element to add to the list.a\n",
            "Enter an element to add to the list.h\n",
            "Enter an element to add to the list.\n",
            "h\n"
          ]
        }
      ]
    },
    {
      "cell_type": "markdown",
      "source": [
        "# **07_get_list.md**\n"
      ],
      "metadata": {
        "id": "Pg8RrDpBQWkJ"
      }
    },
    {
      "cell_type": "code",
      "source": [
        "def main():\n",
        "  lst = []\n",
        "  val = input (\"Enter a value to add to the list.\")\n",
        "  while val != \"\":\n",
        "    lst.append(val)\n",
        "    val = input (\"Enter a value to add to the list.\")\n",
        "  print(\"Here's the list:\",lst)\n",
        "\n",
        "if __name__ == \"__main__\":\n",
        "  main()\n"
      ],
      "metadata": {
        "colab": {
          "base_uri": "https://localhost:8080/"
        },
        "id": "abBPAYwMQaoA",
        "outputId": "f6973323-e322-40bc-ab2e-39f27c33bd74"
      },
      "execution_count": 12,
      "outputs": [
        {
          "output_type": "stream",
          "name": "stdout",
          "text": [
            "Enter a value to add to the list.Hina\n",
            "Enter a value to add to the list.duaa\n",
            "Enter a value to add to the list.mariya\n",
            "Enter a value to add to the list.ahmed\n",
            "Enter a value to add to the list.junaid\n",
            "Enter a value to add to the list.\n",
            "Here's the list: ['Hina', 'duaa', 'mariya', 'ahmed', 'junaid']\n"
          ]
        }
      ]
    },
    {
      "cell_type": "markdown",
      "source": [
        "# **08_shorten.md**\n"
      ],
      "metadata": {
        "id": "3y5y-S1_RZRa"
      }
    },
    {
      "cell_type": "code",
      "source": [
        "\n",
        "MAX_LENGHT: int = 3\n",
        "\n",
        "def shorten(lst):\n",
        "    while len(lst) > MAX_LENGHT:\n",
        "        last_element = lst.pop()\n",
        "        print(last_element)\n",
        "\n",
        "def get_lst():\n",
        "    lst = []\n",
        "    element = input(\"Enter a value to add to the list: \")\n",
        "    while element != \"\":\n",
        "        lst.append(element)\n",
        "        element = input(\"Enter a value to add to the list: \")  # Typo fixed here\n",
        "    return lst\n",
        "\n",
        "def main():\n",
        "    lst = get_lst()\n",
        "    shorten(lst)\n",
        "\n",
        "if __name__ == \"__main__\":\n",
        "    main()\n",
        "\n"
      ],
      "metadata": {
        "colab": {
          "base_uri": "https://localhost:8080/"
        },
        "id": "hc9qX3LZRdXw",
        "outputId": "574534e8-1764-4f8c-a0f0-bafc18a5ef50"
      },
      "execution_count": 16,
      "outputs": [
        {
          "output_type": "stream",
          "name": "stdout",
          "text": [
            "Enter a value to add to the list: apple\n",
            "Enter a value to add to the list: mango\n",
            "Enter a value to add to the list: banana\n",
            "Enter a value to add to the list: grapes\n",
            "Enter a value to add to the list: orange\n",
            "Enter a value to add to the list: \n",
            "orange\n",
            "grapes\n"
          ]
        }
      ]
    }
  ]
}