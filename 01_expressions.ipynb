{
  "nbformat": 4,
  "nbformat_minor": 0,
  "metadata": {
    "colab": {
      "provenance": []
    },
    "kernelspec": {
      "name": "python3",
      "display_name": "Python 3"
    },
    "language_info": {
      "name": "python"
    }
  },
  "cells": [
    {
      "cell_type": "markdown",
      "source": [
        "# **01_dicesimulator.md**"
      ],
      "metadata": {
        "id": "cI32HzRdIXKZ"
      }
    },
    {
      "cell_type": "code",
      "source": [
        "import random\n",
        "\n",
        "def rool_dies():\n",
        "  die1: int = random.randint(1, 6)\n",
        "  die2: int = random.randint(1, 6)\n",
        "  total: int = die1 + die2\n",
        "  print(f\"Total of two dice {total}\")\n",
        "\n",
        "def main():\n",
        "  die1: int = 10\n",
        "  print(f\"Die1 in main () {die1} !\")\n",
        "  rool_dies()\n",
        "  rool_dies()\n",
        "  rool_dies()\n",
        "  print(f\"Die1 in main () {die1} !\")\n",
        "\n",
        "if __name__ == \"__main__\":\n",
        "  main()\n"
      ],
      "metadata": {
        "id": "at2yYc3ZIbPy",
        "colab": {
          "base_uri": "https://localhost:8080/"
        },
        "outputId": "72362d47-1220-4678-c660-81f6446bb17a"
      },
      "execution_count": null,
      "outputs": [
        {
          "output_type": "stream",
          "name": "stdout",
          "text": [
            "Die1 in main () 10 !\n",
            "Total of two dice 7\n",
            "Total of two dice 6\n",
            "Total of two dice 9\n",
            "Die1 in main () 10 !\n"
          ]
        }
      ]
    },
    {
      "cell_type": "markdown",
      "source": [
        "# ***02_e=mc2.md***\n"
      ],
      "metadata": {
        "id": "5zhOeIEDtz-U"
      }
    },
    {
      "cell_type": "code",
      "source": [
        "def energy():\n",
        " c:float = 299792458\n",
        " m:float = float(input(\"Enter kilos of mass:\"))\n",
        " print(\"e  = m * C^2\")\n",
        " print(\"Mass = \" + str(m) + \"kg\")\n",
        " print(\"C  = \" + str(c) + \"m/s\")\n",
        " print(\"e  = \" + str(m * c**2) + \"Jules\")\n",
        "\n",
        "if __name__ == \"__main__\":\n",
        "  energy()"
      ],
      "metadata": {
        "colab": {
          "base_uri": "https://localhost:8080/"
        },
        "id": "0S_auv5Xt2ks",
        "outputId": "57050e8e-4136-4297-ee43-7dc307eac435"
      },
      "execution_count": null,
      "outputs": [
        {
          "output_type": "stream",
          "name": "stdout",
          "text": [
            "Enter kilos of mass:350\n",
            "e  = m * C^2\n",
            "Mass = 350.0kg\n",
            "C  = 299792458m/s\n",
            "e  = 3.1456431255788618e+19Jules\n"
          ]
        }
      ]
    },
    {
      "cell_type": "markdown",
      "source": [
        "# 03_feet_to_inches.**md**"
      ],
      "metadata": {
        "id": "NZOG6VoFxOwK"
      }
    },
    {
      "cell_type": "code",
      "source": [],
      "metadata": {
        "id": "7OpqgFDR0MXz"
      },
      "execution_count": null,
      "outputs": []
    },
    {
      "cell_type": "code",
      "source": [
        "inch : int = 12\n",
        "def foot():\n",
        "  feet:int = int(input(\"Enter feet and i will convert into inches.\"))\n",
        "  print(f'There are {inch * feet} inches in {feet} feet.')\n",
        "\n",
        "if __name__ == \"__main__\":\n",
        "  foot()"
      ],
      "metadata": {
        "colab": {
          "base_uri": "https://localhost:8080/"
        },
        "id": "TNsonAeaxTVK",
        "outputId": "d4a24a34-25b0-45f0-d41d-57b02ec2459d"
      },
      "execution_count": null,
      "outputs": [
        {
          "output_type": "stream",
          "name": "stdout",
          "text": [
            "Enter feet and i will convert into inches.4\n",
            "There are 48 inches in 4 feet.\n"
          ]
        }
      ]
    },
    {
      "cell_type": "markdown",
      "source": [
        "# **04_pythagorean_theorem.md**\n"
      ],
      "metadata": {
        "id": "foUOxfvR0PPY"
      }
    },
    {
      "cell_type": "code",
      "source": [
        "import math\n",
        "\n",
        "def triangle():\n",
        "  ab:float = float(input(\"Enter the lenght of the side ab:\"))\n",
        "  bc:float = float(input(\"Enter the lenght of the side bc:\"))\n",
        "  bc:float = math.sqrt(ab**2 + bc**2)\n",
        "  print(f\"The lenght of bc is(the hypothenuse is : {bc})\")\n",
        "\n",
        "if __name__ == \"__main__\":\n",
        "  triangle()"
      ],
      "metadata": {
        "colab": {
          "base_uri": "https://localhost:8080/"
        },
        "id": "UYCGD6iO0Rqt",
        "outputId": "26ea6ce8-ac3e-4a4e-b5e0-baaa30a573ce"
      },
      "execution_count": null,
      "outputs": [
        {
          "output_type": "stream",
          "name": "stdout",
          "text": [
            "Enter the lenght of the side ab:4\n",
            "Enter the lenght of the side bc:5.7\n",
            "The lenght of bc is(the hypothenuse is : 6.963476143421474)\n"
          ]
        }
      ]
    },
    {
      "cell_type": "markdown",
      "source": [
        "# **05_remainder_division.md**\n"
      ],
      "metadata": {
        "id": "GlGN889v4rZ8"
      }
    },
    {
      "cell_type": "code",
      "source": [
        "def reminder():\n",
        "  num1:int = int(input(\"Enter an integer to be divided:\"))\n",
        "  num2:int = int(input(\"Enter an integer to divide by:\"))\n",
        "  quotient:int = num1 // num2\n",
        "  remainder:int = num1 % num2\n",
        "  print(f\"The result of this division is {quotient} with a reminder of  {remainder}.\")\n",
        "\n",
        "if __name__ == \"__main__\":\n",
        " remainder():"
      ],
      "metadata": {
        "colab": {
          "base_uri": "https://localhost:8080/"
        },
        "id": "dXzcFf2E4tF0",
        "outputId": "27ea772c-e4a3-4f1e-853e-2e7de3afe134"
      },
      "execution_count": 1,
      "outputs": [
        {
          "output_type": "stream",
          "name": "stdout",
          "text": [
            "Enter an integer to be divided:46\n",
            "Enter an integer to divide by:34\n",
            "The result of this division is 1 with a reminder of  12.\n"
          ]
        }
      ]
    },
    {
      "cell_type": "markdown",
      "source": [
        "# **06_rolldice.md**"
      ],
      "metadata": {
        "id": "hNQRHFCm_mJ4"
      }
    },
    {
      "cell_type": "code",
      "source": [
        "import random\n",
        "def dice():\n",
        "  die1:int = random.randint(1, 6)\n",
        "  die2:int = random.randint(1, 6)\n",
        "  total:int = (die1 + die2)\n",
        "  print(\"first die:\" + str(die1))\n",
        "  print(\"second die:\" + str(die2))\n",
        "  print(f\"Total of two dice {total}\")\n",
        "\n",
        "if __name__ == \"__main__\":\n",
        "  dice()"
      ],
      "metadata": {
        "colab": {
          "base_uri": "https://localhost:8080/"
        },
        "id": "wSgGlkix_q6z",
        "outputId": "212e643b-4452-4739-8b17-52c14ed60065"
      },
      "execution_count": 2,
      "outputs": [
        {
          "output_type": "stream",
          "name": "stdout",
          "text": [
            "first die:3\n",
            "second die:1\n",
            "Total of two dice 4\n"
          ]
        }
      ]
    },
    {
      "cell_type": "markdown",
      "source": [
        "# **06_seconds_in_year.md**"
      ],
      "metadata": {
        "id": "2SMFx2RTCdqv"
      }
    },
    {
      "cell_type": "code",
      "source": [
        "day_in_year:int = 365\n",
        "hours_per_day:int = 24\n",
        "minutes_per_hour:int = 60\n",
        "seconds_per_minute:int = 60\n",
        "\n",
        "def seconds():\n",
        "  print(f\"There are {day_in_year * hours_per_day * minutes_per_hour * seconds_per_minute} seconds in a year.\")\n",
        "\n",
        "if __name__ == \"__main__\":\n",
        "  seconds()\n"
      ],
      "metadata": {
        "colab": {
          "base_uri": "https://localhost:8080/"
        },
        "id": "LzCqyDGdCfT3",
        "outputId": "ad9def77-858d-42e6-f165-a4887a05546b"
      },
      "execution_count": 3,
      "outputs": [
        {
          "output_type": "stream",
          "name": "stdout",
          "text": [
            "There are 31536000 seconds in a year.\n"
          ]
        }
      ]
    },
    {
      "cell_type": "markdown",
      "source": [
        "# **07_tiny_mad_lib.md**\n"
      ],
      "metadata": {
        "id": "r3Lp_8GjD-7K"
      }
    },
    {
      "cell_type": "code",
      "source": [
        "def mad_lib():\n",
        "  noun:str = str(input(\"Enter a noun:\"))\n",
        "  adjective:str = str(input(\"Enter an adjective:\"))\n",
        "  verb:str = str(input(\"Enter a verb:\"))\n",
        "  print(f\"Do you {verb} your {adjective} {noun}?\")\n",
        "\n",
        "if __name__ == \"__main__\":\n",
        "  mad_lib()\n"
      ],
      "metadata": {
        "colab": {
          "base_uri": "https://localhost:8080/"
        },
        "id": "0EpAm35UED0c",
        "outputId": "e843ff20-e716-425b-c697-1c03f42f4749"
      },
      "execution_count": 5,
      "outputs": [
        {
          "output_type": "stream",
          "name": "stdout",
          "text": [
            "Enter a noun:wake up \n",
            "Enter an adjective:hina alvi\n",
            "Enter a verb:is\n",
            "Do you is your hina alvi wake up ?\n"
          ]
        }
      ]
    }
  ]
}