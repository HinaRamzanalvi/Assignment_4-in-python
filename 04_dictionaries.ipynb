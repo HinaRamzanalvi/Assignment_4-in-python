{
  "nbformat": 4,
  "nbformat_minor": 0,
  "metadata": {
    "colab": {
      "provenance": []
    },
    "kernelspec": {
      "name": "python3",
      "display_name": "Python 3"
    },
    "language_info": {
      "name": "python"
    }
  },
  "cells": [
    {
      "cell_type": "markdown",
      "source": [
        "\n",
        "00_count_nums.md"
      ],
      "metadata": {
        "id": "YSLF2x4H07xu"
      }
    },
    {
      "cell_type": "code",
      "source": [
        "def count_numbers():\n",
        "    count_dict = {}\n",
        "\n",
        "    while True:\n",
        "        user_input = input(\"Enter a number (or type Exit to quit): \")\n",
        "\n",
        "        if user_input.lower() == \"exit\":\n",
        "            break\n",
        "\n",
        "        if user_input.isdigit():\n",
        "            num = int(user_input)\n",
        "            count_dict[num] = count_dict.get(num, 0) + 1\n",
        "        else:\n",
        "            print(\"Invalid input. Please enter a valid number.\")\n",
        "\n",
        "    return count_dict\n",
        "\n",
        "def display_counts(count_dict):\n",
        "    print(\"\\nNumber Counts:\")\n",
        "    for key, value in count_dict.items():\n",
        "        print(f\"{key}: {value}\")\n",
        "\n",
        "if __name__ == \"__main__\":\n",
        "    counts = count_numbers()\n",
        "    display_counts(counts)"
      ],
      "metadata": {
        "colab": {
          "base_uri": "https://localhost:8080/"
        },
        "id": "NiB5VvpS0-z8",
        "outputId": "bcc7ca99-7523-44c8-ac04-db85c615e86c"
      },
      "execution_count": null,
      "outputs": [
        {
          "output_type": "stream",
          "name": "stdout",
          "text": [
            "Enter a number (or type Exit to quit): 7\n",
            "Enter a number (or type Exit to quit): 6\n",
            "Enter a number (or type Exit to quit): 5\n",
            "Enter a number (or type Exit to quit): 4\n",
            "Enter a number (or type Exit to quit): 3\n",
            "Enter a number (or type Exit to quit): 2\n",
            "Enter a number (or type Exit to quit): 7\n",
            "Enter a number (or type Exit to quit): \n",
            "Invalid input. Please enter a valid number.\n",
            "Enter a number (or type Exit to quit): \n",
            "Invalid input. Please enter a valid number.\n"
          ]
        }
      ]
    },
    {
      "cell_type": "markdown",
      "source": [
        "**01_phonebook.md**"
      ],
      "metadata": {
        "id": "8Jj46SxR1LQr"
      }
    },
    {
      "cell_type": "code",
      "source": [
        "def add_contact(phonebook):\n",
        "    name = input(\"Enter the name: \")\n",
        "    number = input(\"Enter contact number: \")\n",
        "\n",
        "    if name in phonebook:\n",
        "        print(f\"{name} already exists in the phonebook.\")\n",
        "    else:\n",
        "        phonebook[name] = number\n",
        "        print(f\"{name} added to the phonebook.\")\n",
        "\n",
        "def search_contact(phonebook):\n",
        "    name = input(\"Enter contact name to search: \")\n",
        "\n",
        "    if name in phonebook:\n",
        "        print(f\"{name}'s phone number is {phonebook[name]}.\")\n",
        "    else:\n",
        "        print(f\"{name} not found in the phonebook.\")\n",
        "\n",
        "def delete_contact(phonebook):\n",
        "    name = input(\"Enter contact name to delete: \")\n",
        "\n",
        "    if name in phonebook:\n",
        "        del phonebook[name]\n",
        "        print(f\"{name} deleted from the phonebook.\")\n",
        "    else:\n",
        "        print(f\"{name} not found in phonebook.\")\n",
        "\n",
        "def display_contacts(phonebook):\n",
        "    if phonebook:\n",
        "        print(\"\\nPhonebook Contacts list:\")\n",
        "        for name, number in phonebook.items():\n",
        "            print(f\"{name}: {number}\")\n",
        "    else:\n",
        "        print(\"Phonebook is empty.\")\n",
        "\n",
        "# Directly run this block in Colab\n",
        "phonebook = {}\n",
        "\n",
        "while True:\n",
        "    print(\"\\nPhonebook Menu:\")\n",
        "    print(\"1. Add Contact\")\n",
        "    print(\"2. Search Contact\")\n",
        "    print(\"3. Delete Contact\")\n",
        "    print(\"4. Display Contacts\")\n",
        "    print(\"5. Exit\")\n",
        "\n",
        "    choice = input(\"Enter your choice (1-5): \")\n",
        "\n",
        "    if choice == \"1\":\n",
        "        add_contact(phonebook)\n",
        "    elif choice == \"2\":\n",
        "        search_contact(phonebook)\n",
        "    elif choice == \"3\":\n",
        "        delete_contact(phonebook)\n",
        "    elif choice == \"4\":\n",
        "        display_contacts(phonebook)\n",
        "    elif choice == \"5\":\n",
        "        print(\"Exiting Phonebook. Goodbye!\")\n",
        "        break\n",
        "    else:\n",
        "        print(\"Invalid choice. Please enter a number between 1 and 5.\")\n",
        "if __name__ == \"__main__\":\n",
        "    phonebook = {}"
      ],
      "metadata": {
        "id": "985NrBa_1QQf"
      },
      "execution_count": null,
      "outputs": []
    },
    {
      "cell_type": "markdown",
      "source": [
        "**02_pop_up_shop.md**\n"
      ],
      "metadata": {
        "id": "J9TTdjxt17IR"
      }
    },
    {
      "cell_type": "code",
      "source": [
        "def calculate_total_cost():\n",
        "    fruits_price = {\n",
        "        \"apple\": 5.0,\n",
        "        \"mango\": 15.0,\n",
        "        \"kiwi\": 8.0,\n",
        "        \"pear\": 12.0,\n",
        "        \"banana\": 6.0,\n",
        "        \"orange\": 10.0\n",
        "    }\n",
        "\n",
        "    total_cost = 0\n",
        "\n",
        "    for fruit, price in fruits_price.items():\n",
        "        while True:\n",
        "            try:\n",
        "                quantity = int(input(f\"How many {fruit} do you want?: \"))\n",
        "                if quantity < 0:\n",
        "                    print(\"Invalid input. Please enter a non-negative number.\")\n",
        "                    continue\n",
        "                total_cost += price * quantity\n",
        "                break\n",
        "            except ValueError:\n",
        "                print(\"Invalid input. Please enter a valid number.\")\n",
        "\n",
        "    print(f\"\\nYour total cost is: ${total_cost:.2f}\")\n",
        "\n",
        "if __name__ == \"__main__\":\n",
        "    calculate_total_cost()\n"
      ],
      "metadata": {
        "id": "CxX6Oy4z1_4F"
      },
      "execution_count": null,
      "outputs": []
    },
    {
      "cell_type": "markdown",
      "source": [
        "# 03_powerful_passwords.md\n"
      ],
      "metadata": {
        "id": "tpp5Tx_X2H7e"
      }
    },
    {
      "cell_type": "code",
      "source": [
        "import hashlib\n",
        "\n",
        "def hash_password(password):\n",
        "   return hashlib.sha256(password.encode()).hexdigest()\n",
        "\n",
        "stored_logins = {\n",
        "    \"user@example.com\": hash_password(\"password123\"),\n",
        "    \"user2@example.com\": hash_password(\"password456\")\n",
        "}\n",
        "def login(email,password):\n",
        "  if email in  stored_logins:\n",
        "     return stored_logins[email]==hash_password(password)\n",
        "  return False\n",
        "\n",
        "if __name__ == \"__main__\":\n",
        "    email = input(\"Enter your email: \")\n",
        "    password = input(\"Enter your password: \")\n",
        "\n",
        "    if login(email, password):\n",
        "        print(\"Login successful!\")\n",
        "    else:\n",
        "        print(\"Invalid email or password.\")"
      ],
      "metadata": {
        "id": "ddf4v-EK2NOO"
      },
      "execution_count": null,
      "outputs": []
    }
  ]
}