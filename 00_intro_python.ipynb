{
  "nbformat": 4,
  "nbformat_minor": 0,
  "metadata": {
    "colab": {
      "provenance": []
    },
    "kernelspec": {
      "name": "python3",
      "display_name": "Python 3"
    },
    "language_info": {
      "name": "python"
    }
  },
  "cells": [
    {
      "cell_type": "markdown",
      "source": [
        "# ***01_add_two_numbers.md***"
      ],
      "metadata": {
        "id": "RIvAjnODvjHB"
      }
    },
    {
      "cell_type": "code",
      "source": [
        "def sum():\n",
        "  num1 =input (\"Enter the first number:\")\n",
        "  num1:int=int(num1)\n",
        "  num2 = input (\"Enter the second number:\")\n",
        "  num2:int=int(num2)\n",
        "  result = (f\"The Total Number {num1 + num2}\")\n",
        "  print(result)\n",
        "\n",
        "if __name__ == \"__main__\":\n",
        "  sum()"
      ],
      "metadata": {
        "id": "zuutwQmP2Kw1",
        "colab": {
          "base_uri": "https://localhost:8080/"
        },
        "outputId": "b7084d23-0234-45a3-f052-259929c1611b"
      },
      "execution_count": 3,
      "outputs": [
        {
          "output_type": "stream",
          "name": "stdout",
          "text": [
            "Enter the first number:3\n",
            "Enter the second number:6\n",
            "The Total Number 9\n"
          ]
        }
      ]
    },
    {
      "cell_type": "markdown",
      "source": [
        "# **02_agreement_bot.md**\n",
        "\n",
        "\n",
        "\n",
        "\n",
        "\n",
        "\n"
      ],
      "metadata": {
        "id": "c8qNaYQoPyaq"
      }
    },
    {
      "cell_type": "code",
      "source": [
        "def bot():\n",
        "  Fvrt_Animal=input(\"Enter your Favrioute Animal Name:\")\n",
        "  result=(f\"My Favrioute Animal Name is {Fvrt_Animal}\")\n",
        "  print(result)\n",
        "\n",
        "if __name__ == \"__main__\":\n",
        "  bot()"
      ],
      "metadata": {
        "colab": {
          "base_uri": "https://localhost:8080/"
        },
        "id": "geZS7nb3P9Op",
        "outputId": "cfa10240-2072-4570-b1fc-08116b623bf0"
      },
      "execution_count": 5,
      "outputs": [
        {
          "output_type": "stream",
          "name": "stdout",
          "text": [
            "Enter your Favrioute Animal Name:Dog\n",
            "My Favrioute Animal Name is Dog\n"
          ]
        }
      ]
    },
    {
      "cell_type": "markdown",
      "source": [
        "# 03_fahrenheit_to_celsius.**md**"
      ],
      "metadata": {
        "id": "dcyECEH9Qg3L"
      }
    },
    {
      "cell_type": "code",
      "source": [
        "def temp():\n",
        "  fehrenheit=float(input(\"Enter your fehrenheit Temperature:\"))\n",
        "  celsius:float=(fehrenheit-32)*5.0 /9.0\n",
        "  result=(f\"{fehrenheit} fehrenheit is equal to  {celsius} Celsius\")\n",
        "  print(result)\n",
        "\n",
        "if __name__ == \"__main__\":\n",
        "  temp()"
      ],
      "metadata": {
        "colab": {
          "base_uri": "https://localhost:8080/"
        },
        "id": "2uJ0oQrwQp7e",
        "outputId": "625b465b-a9cb-426d-c305-d86294776442"
      },
      "execution_count": 6,
      "outputs": [
        {
          "output_type": "stream",
          "name": "stdout",
          "text": [
            "Enter your fehrenheit Temperature:60\n",
            "60.0 fehrenheit is equal to  15.555555555555555 Celsius\n"
          ]
        }
      ]
    },
    {
      "cell_type": "markdown",
      "source": [
        "# **04_how_old_are_they.md**"
      ],
      "metadata": {
        "id": "7tMfVt1iRuhA"
      }
    },
    {
      "cell_type": "code",
      "source": [
        "def All_age():\n",
        "  anton : int = 21\n",
        "  beth : int = anton + 6\n",
        "  chen : int= beth + 20\n",
        "  drew : int = anton + chen  # 68\n",
        "  ethan : int = chen\n",
        "\n",
        "\n",
        "  print(f\"Anton is {anton} years old.\")\n",
        "  print(f\"Beth is {beth} years old.\")\n",
        "  print(f\"Chen is {chen} years old.\")\n",
        "  print(f\"Drew is {drew} years old.\")\n",
        "\n",
        "if __name__ == \"__main__\":\n",
        "  All_age()"
      ],
      "metadata": {
        "colab": {
          "base_uri": "https://localhost:8080/"
        },
        "id": "dDXESEbHR1If",
        "outputId": "366063b9-6fad-4cad-9a54-fb7d35ccc5af"
      },
      "execution_count": 13,
      "outputs": [
        {
          "output_type": "stream",
          "name": "stdout",
          "text": [
            "Anton is 21 years old.\n",
            "Beth is 27 years old.\n",
            "Chen is 47 years old.\n",
            "Drew is 68 years old.\n"
          ]
        }
      ]
    },
    {
      "cell_type": "markdown",
      "source": [
        "# **05_triangle_perimeter.md**"
      ],
      "metadata": {
        "id": "ZGDVxU3yTyPv"
      }
    },
    {
      "cell_type": "code",
      "source": [
        "def triangle():\n",
        "  triangle_side1 = float(input(\"Enter the first side of the triangle: \"))\n",
        "  triangle_side2 = float(input(\"Enter the second side of the triangle: \"))\n",
        "  triangle_side3 = float(input(\"Enter the third side of the triangle: \"))\n",
        "\n",
        "  All_Triangles = triangle_side1 + triangle_side2 + triangle_side3\n",
        "  print(f\"The perimeter of the triangle is {All_Triangles}\")\n",
        "\n",
        "if __name__ == \"__main__\":\n",
        "  triangle()"
      ],
      "metadata": {
        "colab": {
          "base_uri": "https://localhost:8080/"
        },
        "id": "Ke91fF7IT3R9",
        "outputId": "05643b95-2f80-4f49-9be9-f1e9cf331aeb"
      },
      "execution_count": 14,
      "outputs": [
        {
          "output_type": "stream",
          "name": "stdout",
          "text": [
            "Enter the first side of the triangle: 3.5\n",
            "Enter the second side of the triangle: 2.3\n",
            "Enter the third side of the triangle: 5.2\n",
            "The perimeter of the triangle is 11.0\n"
          ]
        }
      ]
    },
    {
      "cell_type": "markdown",
      "source": [
        "# 06_square_number.md\n"
      ],
      "metadata": {
        "id": "aGznVvP0UZs_"
      }
    },
    {
      "cell_type": "code",
      "source": [
        "def Square_number():\n",
        "  number = float(input(\"Enter a number to see its square: \"))\n",
        "  square = number ** 2\n",
        "  print(f\"The square of {number} is {square}\")\n",
        "\n",
        "if __name__ == \"__main__\":\n",
        "  Square_number()"
      ],
      "metadata": {
        "colab": {
          "base_uri": "https://localhost:8080/"
        },
        "id": "kyVCPUrlUe3S",
        "outputId": "bc3586b4-5237-48da-f587-37007a360ee0"
      },
      "execution_count": 15,
      "outputs": [
        {
          "output_type": "stream",
          "name": "stdout",
          "text": [
            "Enter a number to see its square: 2\n",
            "The square of 2.0 is 4.0\n"
          ]
        }
      ]
    }
  ]
}