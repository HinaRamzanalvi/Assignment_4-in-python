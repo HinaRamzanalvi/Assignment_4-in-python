{
  "nbformat": 4,
  "nbformat_minor": 0,
  "metadata": {
    "colab": {
      "provenance": []
    },
    "kernelspec": {
      "name": "python3",
      "display_name": "Python 3"
    },
    "language_info": {
      "name": "python"
    }
  },
  "cells": [
    {
      "cell_type": "markdown",
      "source": [
        "# **01_print_events.md**"
      ],
      "metadata": {
        "id": "jHc_Xv7wVXgQ"
      }
    },
    {
      "cell_type": "code",
      "source": [
        "def even():\n",
        "    print(\"Here are 20 even numbers:\")\n",
        "    for i in range(40):\n",
        "        print(\"Here is 20 even numbers are:\",i*2)\n",
        "\n",
        "if __name__ == \"__main__\":\n",
        "    even()\n"
      ],
      "metadata": {
        "colab": {
          "base_uri": "https://localhost:8080/"
        },
        "id": "-Vbx8zqOVbvI",
        "outputId": "c929e88d-f2ad-4ac3-c62d-6bb84ba8a1cd"
      },
      "execution_count": 5,
      "outputs": [
        {
          "output_type": "stream",
          "name": "stdout",
          "text": [
            "Here are 20 even numbers:\n",
            "Here is 20 even numbers are: 0\n",
            "Here is 20 even numbers are: 2\n",
            "Here is 20 even numbers are: 4\n",
            "Here is 20 even numbers are: 6\n",
            "Here is 20 even numbers are: 8\n",
            "Here is 20 even numbers are: 10\n",
            "Here is 20 even numbers are: 12\n",
            "Here is 20 even numbers are: 14\n",
            "Here is 20 even numbers are: 16\n",
            "Here is 20 even numbers are: 18\n",
            "Here is 20 even numbers are: 20\n",
            "Here is 20 even numbers are: 22\n",
            "Here is 20 even numbers are: 24\n",
            "Here is 20 even numbers are: 26\n",
            "Here is 20 even numbers are: 28\n",
            "Here is 20 even numbers are: 30\n",
            "Here is 20 even numbers are: 32\n",
            "Here is 20 even numbers are: 34\n",
            "Here is 20 even numbers are: 36\n",
            "Here is 20 even numbers are: 38\n",
            "Here is 20 even numbers are: 40\n",
            "Here is 20 even numbers are: 42\n",
            "Here is 20 even numbers are: 44\n",
            "Here is 20 even numbers are: 46\n",
            "Here is 20 even numbers are: 48\n",
            "Here is 20 even numbers are: 50\n",
            "Here is 20 even numbers are: 52\n",
            "Here is 20 even numbers are: 54\n",
            "Here is 20 even numbers are: 56\n",
            "Here is 20 even numbers are: 58\n",
            "Here is 20 even numbers are: 60\n",
            "Here is 20 even numbers are: 62\n",
            "Here is 20 even numbers are: 64\n",
            "Here is 20 even numbers are: 66\n",
            "Here is 20 even numbers are: 68\n",
            "Here is 20 even numbers are: 70\n",
            "Here is 20 even numbers are: 72\n",
            "Here is 20 even numbers are: 74\n",
            "Here is 20 even numbers are: 76\n",
            "Here is 20 even numbers are: 78\n"
          ]
        }
      ]
    },
    {
      "cell_type": "markdown",
      "source": [
        "# ***02_international_voting_age.md***\n"
      ],
      "metadata": {
        "id": "yKCqXeE3aaNn"
      }
    },
    {
      "cell_type": "code",
      "source": [
        "peturksbouipo:int = 16\n",
        "stanlau:int =25\n",
        "Mayengua:int =48\n",
        "\n",
        "def main():\n",
        "  age:int=int(input(\"How old are you?\"))\n",
        "  if age>=peturksbouipo:\n",
        "    print(f\"Your age is {age} you are  eligible to vote in peturksbouipo\")\n",
        "  elif age>=stanlau:\n",
        "    print(f\"Your age id {age} you are eligible to vote in stanlau\")\n",
        "  elif age>=Mayengua:\n",
        "    print(f\"Your age is {age} you are eligible to vote in Mayengua\")\n",
        "  else:\n",
        "    print(\"You are not eligible to vote\")\n",
        "\n",
        "if __name__ == \"__main__\":\n",
        "  main()"
      ],
      "metadata": {
        "colab": {
          "base_uri": "https://localhost:8080/"
        },
        "id": "KRBbGi7GagnX",
        "outputId": "fbe620e7-d70a-43e8-ab48-ca1f51e52578"
      },
      "execution_count": 8,
      "outputs": [
        {
          "output_type": "stream",
          "name": "stdout",
          "text": [
            "How old are you?30\n",
            "Your age is 30 you are  eligible to vote in peturksbouipo\n"
          ]
        }
      ]
    },
    {
      "cell_type": "markdown",
      "source": [
        "# ***03_leap_year.md***\n"
      ],
      "metadata": {
        "id": "uPxA2RDvcoVu"
      }
    },
    {
      "cell_type": "code",
      "source": [
        "def leap_year():\n",
        "  year:int = int (input(\"Enter as years:\"))\n",
        "  if year % 4 == 0:\n",
        "   if year % 100 == 0:\n",
        "    if year % 400 == 0:\n",
        "      print(f\"{year} is a leap year\")\n",
        "    else:\n",
        "      print(f\"{year} is not a leap year\")\n",
        "\n",
        "  else:\n",
        "    print(f\"{year} is not a leap year\")\n",
        "\n",
        "if __name__ == \"__main__\":\n",
        "  leap_year()"
      ],
      "metadata": {
        "colab": {
          "base_uri": "https://localhost:8080/"
        },
        "id": "sqb80L6FcwGX",
        "outputId": "55e76bc3-2ac4-4b8b-fcf2-225c6ca90c77"
      },
      "execution_count": 10,
      "outputs": [
        {
          "output_type": "stream",
          "name": "stdout",
          "text": [
            "Enter as years:23\n",
            "23 is not a leap year\n"
          ]
        }
      ]
    },
    {
      "cell_type": "markdown",
      "source": [
        "\n",
        "# ***04_tall_enough_to_ride.md***\n"
      ],
      "metadata": {
        "id": "AOuoThBhdvyS"
      }
    },
    {
      "cell_type": "code",
      "source": [
        "min_height:int = 50\n",
        "def main():\n",
        "  user:int = int(input(\"How tall are you?\"))\n",
        "  if user >= min_height:\n",
        "    print(\"You are tall enough to ride\")\n",
        "  else:\n",
        "    print(\"You are not tall enough to ride\")\n",
        "\n",
        "if __name__ == \"__main__\":\n",
        "  main()"
      ],
      "metadata": {
        "colab": {
          "base_uri": "https://localhost:8080/"
        },
        "id": "RDXhKivpd1T2",
        "outputId": "89112372-5853-4e42-afdc-336461da7758"
      },
      "execution_count": 12,
      "outputs": [
        {
          "output_type": "stream",
          "name": "stdout",
          "text": [
            "How tall are you?45\n",
            "You are not tall enough to ride\n"
          ]
        }
      ]
    },
    {
      "cell_type": "markdown",
      "source": [
        "# ***05_random_numbers.md***\n"
      ],
      "metadata": {
        "id": "-h4k1bgYe6w7"
      }
    },
    {
      "cell_type": "code",
      "source": [
        "def even():\n",
        "  for i in range(40):\n",
        "   even = i*2\n",
        "   print(even)\n",
        "\n",
        "if __name__ == \"__main__\":\n",
        "  even()"
      ],
      "metadata": {
        "colab": {
          "base_uri": "https://localhost:8080/"
        },
        "id": "nBio0Txqe_Gv",
        "outputId": "1cb895ac-59f4-4a3b-8fd9-f165fbe73bbd"
      },
      "execution_count": 13,
      "outputs": [
        {
          "output_type": "stream",
          "name": "stdout",
          "text": [
            "0\n",
            "2\n",
            "4\n",
            "6\n",
            "8\n",
            "10\n",
            "12\n",
            "14\n",
            "16\n",
            "18\n",
            "20\n",
            "22\n",
            "24\n",
            "26\n",
            "28\n",
            "30\n",
            "32\n",
            "34\n",
            "36\n",
            "38\n",
            "40\n",
            "42\n",
            "44\n",
            "46\n",
            "48\n",
            "50\n",
            "52\n",
            "54\n",
            "56\n",
            "58\n",
            "60\n",
            "62\n",
            "64\n",
            "66\n",
            "68\n",
            "70\n",
            "72\n",
            "74\n",
            "76\n",
            "78\n"
          ]
        }
      ]
    }
  ]
}